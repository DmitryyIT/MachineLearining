{
  "nbformat": 4,
  "nbformat_minor": 0,
  "metadata": {
    "colab": {
      "provenance": []
    },
    "kernelspec": {
      "name": "python3",
      "display_name": "Python 3"
    },
    "language_info": {
      "name": "python"
    }
  },
  "cells": [
    {
      "cell_type": "markdown",
      "source": [
        "https://drive.google.com/file/d/1DEeFIHZ6iETSdmSbAtTRJUbQLjFpfgbb/view?usp=drive_link\n"
      ],
      "metadata": {
        "id": "Zns38EyW6rkx"
      }
    },
    {
      "cell_type": "code",
      "execution_count": null,
      "metadata": {
        "id": "a78uqMrgvKFy"
      },
      "outputs": [],
      "source": [
        "! gdown --id 1DEeFIHZ6iETSdmSbAtTRJUbQLjFpfgbb"
      ]
    },
    {
      "cell_type": "code",
      "source": [
        "! unzip /content/archive.zip"
      ],
      "metadata": {
        "id": "YAWzGNrG7y0j"
      },
      "execution_count": null,
      "outputs": []
    },
    {
      "cell_type": "code",
      "source": [
        "import pandas as pd"
      ],
      "metadata": {
        "id": "FZ27pbGM8vbT"
      },
      "execution_count": 4,
      "outputs": []
    },
    {
      "cell_type": "code",
      "source": [
        "df = pd.read_csv(\"/content/aug_train.csv\")"
      ],
      "metadata": {
        "id": "DBpFbkBz91c6"
      },
      "execution_count": 5,
      "outputs": []
    },
    {
      "cell_type": "code",
      "source": [
        "df.head()"
      ],
      "metadata": {
        "id": "I418cir4rwNq"
      },
      "execution_count": null,
      "outputs": []
    },
    {
      "cell_type": "code",
      "source": [
        "df.columns"
      ],
      "metadata": {
        "id": "KGoWAxquslhE"
      },
      "execution_count": null,
      "outputs": []
    },
    {
      "cell_type": "code",
      "source": [
        "df['new col1'] = 1"
      ],
      "metadata": {
        "id": "0rc2A_GitGns"
      },
      "execution_count": 14,
      "outputs": []
    },
    {
      "cell_type": "code",
      "source": [
        "df"
      ],
      "metadata": {
        "id": "PjcXyDK8tK2l"
      },
      "execution_count": null,
      "outputs": []
    },
    {
      "cell_type": "code",
      "source": [
        "df.assign(new_col2 = df['city_development_index'] / 3)"
      ],
      "metadata": {
        "id": "X-5ANpjGtu_l"
      },
      "execution_count": null,
      "outputs": []
    },
    {
      "cell_type": "markdown",
      "source": [
        "Filtration\n",
        "\n",
        "\n"
      ],
      "metadata": {
        "id": "RaBmXeBGuUOV"
      }
    },
    {
      "cell_type": "code",
      "source": [
        "df[df['city'] == 'city_65']"
      ],
      "metadata": {
        "id": "_gyVu0g7uYch"
      },
      "execution_count": null,
      "outputs": []
    },
    {
      "cell_type": "code",
      "source": [
        "df[(df['city'] == 'city_40') & (df['gender'] == 'Male')]"
      ],
      "metadata": {
        "id": "WS21Lp8XvKwB"
      },
      "execution_count": null,
      "outputs": []
    },
    {
      "cell_type": "code",
      "source": [
        "df"
      ],
      "metadata": {
        "id": "KkZEr6W3w2-N"
      },
      "execution_count": null,
      "outputs": []
    },
    {
      "cell_type": "code",
      "source": [
        "df_relevent_experience_male = df[(df['relevent_experience'] == 'No relevent experience') & (df['gender'] == 'Male')].copy()"
      ],
      "metadata": {
        "id": "EPqFMiyYw6Q9"
      },
      "execution_count": 39,
      "outputs": []
    },
    {
      "cell_type": "code",
      "source": [
        "df_relevent_experience_male"
      ],
      "metadata": {
        "id": "7OmYHWUExNot"
      },
      "execution_count": null,
      "outputs": []
    },
    {
      "cell_type": "markdown",
      "source": [
        "Skips"
      ],
      "metadata": {
        "id": "Dxpobq4Gxe1G"
      }
    },
    {
      "cell_type": "code",
      "source": [
        "df.isna().mean().sort_values(ascending=False)"
      ],
      "metadata": {
        "id": "pvKFhPJXxhTS"
      },
      "execution_count": null,
      "outputs": []
    },
    {
      "cell_type": "code",
      "source": [
        "df.info()"
      ],
      "metadata": {
        "id": "AnyPLCbSyfG9"
      },
      "execution_count": null,
      "outputs": []
    },
    {
      "cell_type": "markdown",
      "source": [
        "Data Type"
      ],
      "metadata": {
        "id": "tQVkbwc4y_yq"
      }
    },
    {
      "cell_type": "code",
      "source": [
        "df['city_development_index'].hist()"
      ],
      "metadata": {
        "colab": {
          "base_uri": "https://localhost:8080/",
          "height": 448
        },
        "id": "Nef8JrLby_U_",
        "outputId": "272c1056-da05-4a96-cdce-844b1dc719e1"
      },
      "execution_count": 47,
      "outputs": [
        {
          "output_type": "execute_result",
          "data": {
            "text/plain": [
              "<Axes: >"
            ]
          },
          "metadata": {},
          "execution_count": 47
        },
        {
          "output_type": "display_data",
          "data": {
            "text/plain": [
              "<Figure size 640x480 with 1 Axes>"
            ],
            "image/png": "[encoded data removed]"
          },
          "metadata": {}
        }
      ]
    },
    {
      "cell_type": "code",
      "source": [
        "df.describe()"
      ],
      "metadata": {
        "id": "HfC4YdjPz-Me"
      },
      "execution_count": null,
      "outputs": []
    },
    {
      "cell_type": "code",
      "source": [
        "df['gender'].value_counts(dropna=False)"
      ],
      "metadata": {
        "id": "g45LARx90dR0"
      },
      "execution_count": null,
      "outputs": []
    }
  ]
}
