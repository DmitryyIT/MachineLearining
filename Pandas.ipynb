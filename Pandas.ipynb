{
  "nbformat": 4,
  "nbformat_minor": 0,
  "metadata": {
    "colab": {
      "provenance": []
    },
    "kernelspec": {
      "name": "python3",
      "display_name": "Python 3"
    },
    "language_info": {
      "name": "python"
    }
  },
  "cells": [
    {
      "cell_type": "markdown",
      "source": [
        "https://drive.google.com/file/d/1DEeFIHZ6iETSdmSbAtTRJUbQLjFpfgbb/view?usp=drive_link\n"
      ],
      "metadata": {
        "id": "Zns38EyW6rkx"
      }
    },
    {
      "cell_type": "code",
      "execution_count": null,
      "metadata": {
        "id": "a78uqMrgvKFy"
      },
      "outputs": [],
      "source": [
        "! gdown --id 1DEeFIHZ6iETSdmSbAtTRJUbQLjFpfgbb"
      ]
    },
    {
      "cell_type": "code",
      "source": [
        "! unzip /content/archive.zip"
      ],
      "metadata": {
        "id": "YAWzGNrG7y0j"
      },
      "execution_count": null,
      "outputs": []
    },
    {
      "cell_type": "code",
      "source": [
        "import pandas as pd"
      ],
      "metadata": {
        "id": "FZ27pbGM8vbT"
      },
      "execution_count": null,
      "outputs": []
    },
    {
      "cell_type": "code",
      "source": [
        "df = pd.read_csv(\"/content/aug_train.csv\")\n",
        "\n",
        "df"
      ],
      "metadata": {
        "id": "DBpFbkBz91c6"
      },
      "execution_count": null,
      "outputs": []
    }
  ]
}